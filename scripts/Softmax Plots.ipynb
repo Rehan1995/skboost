{
 "cells": [
  {
   "cell_type": "markdown",
   "metadata": {},
   "source": [
    "# Plotting the Softmax functions"
   ]
  },
  {
   "cell_type": "markdown",
   "metadata": {},
   "source": [
    "### Imports"
   ]
  },
  {
   "cell_type": "code",
   "execution_count": 18,
   "metadata": {},
   "outputs": [],
   "source": [
    "import numpy as np\n",
    "from skboost.milboost.softmax import *"
   ]
  },
  {
   "cell_type": "code",
   "execution_count": 20,
   "metadata": {},
   "outputs": [],
   "source": [
    "%pylab inline"
   ]
  },
  {
   "cell_type": "markdown",
   "metadata": {},
   "source": [
    "## Data"
   ]
  },
  {
   "cell_type": "code",
   "execution_count": 24,
   "metadata": {},
   "outputs": [],
   "source": [
    "x = np.linspace(0.0, 1.0, num=100)\n",
    "t = np.vstack([x, 1 - x]).T\n",
    "true_t = np.max(t, axis=1)"
   ]
  },
  {
   "cell_type": "code",
   "execution_count": 25,
   "metadata": {},
   "outputs": [],
   "source": [
    "lse_5 = np.array(map(LogSumExponential(5.0).f, t))\n",
    "lse_20 = np.array(map(LogSumExponential(20.0).f, t))\n",
    "nor = np.array(map(NoisyOR().f, t))\n",
    "isr = np.array(map(ISR().f, t))\n",
    "gm_5 = np.array(map(GeneralizedMean(5.0).f, t))\n",
    "gm_20 = np.array(map(GeneralizedMean(20.0).f, t))"
   ]
  },
  {
   "cell_type": "code",
   "execution_count": 23,
   "metadata": {},
   "outputs": [],
   "source": [
    "plt.plot(x, true_t, 'k--', label='True')\n",
    "plt.plot(x, lse_5, 'b', label='LSE(5)')\n",
    "plt.plot(x, lse_20, 'y', label='LSE(20)')\n",
    "plt.plot(x, nor, 'r', label='NOR')\n",
    "plt.plot(x, isr, 'g', label='ISR')\n",
    "plt.plot(x, gm_5, 'm', label='GM(5)')\n",
    "plt.plot(x, gm_20, 'c', label='GM(20)')\n",
    "\n",
    "plt.legend()\n",
    "plt.xlabel('v')\n",
    "plt.ylabel('g_{l}(v_{l})')\n",
    "\n",
    "plt.show()"
   ]
  },
  {
   "cell_type": "code",
   "execution_count": null,
   "metadata": {},
   "outputs": [],
   "source": [
    ""
   ]
  }
 ],
 "metadata": {
  "kernelspec": {
   "display_name": "Python 2",
   "language": "python",
   "name": "python2"
  },
  "language_info": {
   "codemirror_mode": {
    "name": "ipython",
    "version": 2.0
   },
   "file_extension": ".py",
   "mimetype": "text/x-python",
   "name": "python",
   "nbconvert_exporter": "python",
   "pygments_lexer": "ipython2",
   "version": "2.7.6"
  }
 },
 "nbformat": 4,
 "nbformat_minor": 0
}